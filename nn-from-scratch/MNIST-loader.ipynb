{
 "cells": [
  {
   "cell_type": "markdown",
   "metadata": {},
   "source": [
    "# Loading the MNIST data\n",
    "\n",
    "This is the MNIST data obtainable at http://yann.lecun.com/exdb/mnist/\n",
    "\n",
    "The data is supplied as IDX files compressed in gzip format. The code below unzips the data, converts the IDX file to an ndarray, reshapes and one-hot encodes as necessary, and finally pickles the data for easy loading into the main script.\n",
    "\n",
    "It's worth noting that the pickled data files are not backward compatible with Python 2.X, so if you haven't yet started using Python 3.X then you should download the gzips yourself and run this script locally to generate Python 2.X compatible pickle files. YMMV.\n",
    "\n",
    "Finally, the details of the data are available on the website above. But in a nutshell, the training data contains 60 000 images, and the testing data contains 10 000 images. I randomly removed 10 000 of the training data points to set aside as a validation set."
   ]
  },
  {
   "cell_type": "code",
   "execution_count": 67,
   "metadata": {
    "collapsed": false
   },
   "outputs": [],
   "source": [
    "import pickle\n",
    "import gzip\n",
    "import idx2numpy\n",
    "import numpy as np\n",
    "from sklearn.cross_validation import train_test_split"
   ]
  },
  {
   "cell_type": "code",
   "execution_count": 69,
   "metadata": {
    "collapsed": false
   },
   "outputs": [],
   "source": [
    "# Uncompress the gzips and convert the IDX files to ndarray\n",
    "with gzip.open('data/train-images-idx3-ubyte.gz', 'rb') as f:\n",
    "    xtrain = idx2numpy.convert_from_file(f)\n",
    "\n",
    "with gzip.open('data/train-labels-idx1-ubyte.gz', 'rb') as f:\n",
    "    ytrain = idx2numpy.convert_from_file(f)\n",
    "\n",
    "# Reshape the images to an [nXm] array\n",
    "xtrain = xtrain.reshape(len(xtrain),-1)\n",
    "# One-hot encode the y values\n",
    "ytrain = np.eye(10)[ytrain].reshape(len(ytrain),10)\n",
    "\n",
    "# Seperate out the validation set. Note: the random_state parameter will ensure you get the same results as me.\n",
    "xtrain, xval, ytrain, yval = train_test_split(xtrain, ytrain, test_size=10000, random_state=0)\n",
    "\n",
    "# Write the pickled files for importing easily into other scripts\n",
    "with open('xtrain.pickle', 'wb') as f:\n",
    "    pickle.dump(xtrain, f, pickle.HIGHEST_PROTOCOL)\n",
    "    \n",
    "with open('xval.pickle', 'wb') as f:\n",
    "    pickle.dump(xval, f, pickle.HIGHEST_PROTOCOL)\n",
    "\n",
    "with open('ytrain.pickle', 'wb') as f:\n",
    "    pickle.dump(ytrain, f, pickle.HIGHEST_PROTOCOL)\n",
    "    \n",
    "with open('yval.pickle', 'wb') as f:\n",
    "    pickle.dump(yval, f, pickle.HIGHEST_PROTOCOL)"
   ]
  },
  {
   "cell_type": "code",
   "execution_count": 70,
   "metadata": {
    "collapsed": false
   },
   "outputs": [],
   "source": [
    "# As above, but for the test set\n",
    "with gzip.open('data/t10k-images-idx3-ubyte.gz', 'rb') as f:\n",
    "    xtest = idx2numpy.convert_from_file(f)\n",
    "    \n",
    "with gzip.open('data/t10k-labels-idx1-ubyte.gz', 'rb') as f:\n",
    "    ytest = idx2numpy.convert_from_file(f)\n",
    "\n",
    "xtest = xtest.reshape(len(xtest),-1)\n",
    "ytest = np.eye(10)[ytest].reshape(len(ytest),10)\n",
    "\n",
    "with open('xtest.pickle', 'wb') as f:\n",
    "    pickle.dump(xtest, f, pickle.HIGHEST_PROTOCOL)\n",
    "    \n",
    "with open('ytest.pickle', 'wb') as f:\n",
    "    pickle.dump(ytest, f, pickle.HIGHEST_PROTOCOL)"
   ]
  }
 ],
 "metadata": {
  "kernelspec": {
   "display_name": "Python 3",
   "language": "python",
   "name": "python3"
  },
  "language_info": {
   "codemirror_mode": {
    "name": "ipython",
    "version": 3
   },
   "file_extension": ".py",
   "mimetype": "text/x-python",
   "name": "python",
   "nbconvert_exporter": "python",
   "pygments_lexer": "ipython3",
   "version": "3.5.2"
  }
 },
 "nbformat": 4,
 "nbformat_minor": 0
}
